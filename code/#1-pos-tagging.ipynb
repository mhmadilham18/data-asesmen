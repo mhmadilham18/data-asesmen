{
 "cells": [
  {
   "cell_type": "code",
   "execution_count": null,
   "metadata": {},
   "outputs": [],
   "source": [
    "import stanza\n",
    "stanza.download('id')\n",
    "nlp = stanza.Pipeline(lang='id', processors='tokenize, pos')"
   ]
  },
  {
   "cell_type": "code",
   "execution_count": 10,
   "metadata": {},
   "outputs": [
    {
     "name": "stdout",
     "output_type": "stream",
     "text": [
      "Ilmu\tNSD\n",
      "biologi\tNSD\n",
      "yang\tS--\n",
      "membutuhkan\tVSA\n",
      "penggunaan\tNSD\n",
      "mikroskop\tX--\n",
      "untuk\tR--\n",
      "mengkaji\tVSA\n",
      ",\tZ--\n",
      "sebagai\tR--\n",
      "contoh\tNSD\n"
     ]
    }
   ],
   "source": [
    "# tes\n",
    "text = \"Ilmu biologi yang membutuhkan penggunaan mikroskop untuk mengkaji, sebagai contoh\"\n",
    "doc = nlp(text)\n",
    "for sentence in doc.sentences:\n",
    "  for word in sentence.words:\n",
    "    print(f\"{word.text}\\t{word.xpos}\")"
   ]
  },
  {
   "cell_type": "code",
   "execution_count": 26,
   "metadata": {},
   "outputs": [
    {
     "data": {
      "text/html": [
       "<div>\n",
       "<style scoped>\n",
       "    .dataframe tbody tr th:only-of-type {\n",
       "        vertical-align: middle;\n",
       "    }\n",
       "\n",
       "    .dataframe tbody tr th {\n",
       "        vertical-align: top;\n",
       "    }\n",
       "\n",
       "    .dataframe thead th {\n",
       "        text-align: right;\n",
       "    }\n",
       "</style>\n",
       "<table border=\"1\" class=\"dataframe\">\n",
       "  <thead>\n",
       "    <tr style=\"text-align: right;\">\n",
       "      <th></th>\n",
       "      <th>soal</th>\n",
       "      <th>version-soal</th>\n",
       "      <th>opsi-1</th>\n",
       "      <th>opsi-2</th>\n",
       "      <th>opsi-3</th>\n",
       "      <th>opsi-4</th>\n",
       "      <th>opsi-5</th>\n",
       "      <th>opsi-benar</th>\n",
       "      <th>total-benar</th>\n",
       "      <th>total-salah</th>\n",
       "      <th>total-muncul</th>\n",
       "      <th>prob-benar</th>\n",
       "      <th>level-soal</th>\n",
       "      <th>current-total-benar</th>\n",
       "      <th>current-total-muncul</th>\n",
       "      <th>current-prob</th>\n",
       "      <th>current-level</th>\n",
       "    </tr>\n",
       "  </thead>\n",
       "  <tbody>\n",
       "    <tr>\n",
       "      <th>0</th>\n",
       "      <td>Bagian dari bidang biologi yang membutuhkan pe...</td>\n",
       "      <td>001v001</td>\n",
       "      <td>Atom dan molekul</td>\n",
       "      <td>Organel, sel dan jaringan</td>\n",
       "      <td>Bioma dan biosfer</td>\n",
       "      <td>Membran sel</td>\n",
       "      <td>Organ dan sistem organ</td>\n",
       "      <td>2</td>\n",
       "      <td>3</td>\n",
       "      <td>3</td>\n",
       "      <td>6</td>\n",
       "      <td>0.5</td>\n",
       "      <td>2</td>\n",
       "      <td>0</td>\n",
       "      <td>9</td>\n",
       "      <td>0.2</td>\n",
       "      <td>3</td>\n",
       "    </tr>\n",
       "  </tbody>\n",
       "</table>\n",
       "</div>"
      ],
      "text/plain": [
       "                                                soal version-soal  \\\n",
       "0  Bagian dari bidang biologi yang membutuhkan pe...      001v001   \n",
       "\n",
       "             opsi-1                     opsi-2             opsi-3  \\\n",
       "0  Atom dan molekul  Organel, sel dan jaringan  Bioma dan biosfer   \n",
       "\n",
       "        opsi-4                  opsi-5  opsi-benar  total-benar  total-salah  \\\n",
       "0  Membran sel  Organ dan sistem organ           2            3            3   \n",
       "\n",
       "   total-muncul  prob-benar  level-soal  current-total-benar  \\\n",
       "0             6         0.5           2                    0   \n",
       "\n",
       "   current-total-muncul  current-prob  current-level  \n",
       "0                     9           0.2              3  "
      ]
     },
     "execution_count": 26,
     "metadata": {},
     "output_type": "execute_result"
    }
   ],
   "source": [
    "# read dataset\n",
    "import pandas as pd\n",
    "df = pd.read_csv(\"../output/normalisasi-dataset-level-soal-2.csv\")\n",
    "df.head(1)"
   ]
  },
  {
   "cell_type": "code",
   "execution_count": 25,
   "metadata": {},
   "outputs": [
    {
     "data": {
      "text/html": [
       "<div>\n",
       "<style scoped>\n",
       "    .dataframe tbody tr th:only-of-type {\n",
       "        vertical-align: middle;\n",
       "    }\n",
       "\n",
       "    .dataframe tbody tr th {\n",
       "        vertical-align: top;\n",
       "    }\n",
       "\n",
       "    .dataframe thead th {\n",
       "        text-align: right;\n",
       "    }\n",
       "</style>\n",
       "<table border=\"1\" class=\"dataframe\">\n",
       "  <thead>\n",
       "    <tr style=\"text-align: right;\">\n",
       "      <th></th>\n",
       "      <th>soal</th>\n",
       "      <th>pos</th>\n",
       "      <th>version-soal</th>\n",
       "      <th>current-prob</th>\n",
       "      <th>current-level</th>\n",
       "    </tr>\n",
       "  </thead>\n",
       "  <tbody>\n",
       "    <tr>\n",
       "      <th>0</th>\n",
       "      <td>Bagian dari bidang biologi yang membutuhkan pe...</td>\n",
       "      <td>Bagian/NSD dari/R-- bidang/NSD biologi/NSD yan...</td>\n",
       "      <td>001v001</td>\n",
       "      <td>0.2</td>\n",
       "      <td>3</td>\n",
       "    </tr>\n",
       "  </tbody>\n",
       "</table>\n",
       "</div>"
      ],
      "text/plain": [
       "                                                soal  \\\n",
       "0  Bagian dari bidang biologi yang membutuhkan pe...   \n",
       "\n",
       "                                                 pos version-soal  \\\n",
       "0  Bagian/NSD dari/R-- bidang/NSD biologi/NSD yan...      001v001   \n",
       "\n",
       "   current-prob  current-level  \n",
       "0           0.2              3  "
      ]
     },
     "execution_count": 25,
     "metadata": {},
     "output_type": "execute_result"
    }
   ],
   "source": [
    "# implement pos-tag\n",
    "def get_pos_tags(text):\n",
    "    doc = nlp(text)   \n",
    "    pos_tags = [f\"{word.text}/{word.xpos}\" for sent in doc.sentences for word in sent.words] \n",
    "    return \" \".join(pos_tags)\n",
    "\n",
    "df[\"pos\"] = df[\"soal\"].apply(get_pos_tags)\n",
    "data_with_pos = df[[\"soal\", \"pos\", \"version-soal\", \"current-prob\", \"current-level\"]]\n",
    "data_with_pos.head(1)\n"
   ]
  },
  {
   "cell_type": "code",
   "execution_count": 33,
   "metadata": {},
   "outputs": [
    {
     "data": {
      "text/html": [
       "<div>\n",
       "<style scoped>\n",
       "    .dataframe tbody tr th:only-of-type {\n",
       "        vertical-align: middle;\n",
       "    }\n",
       "\n",
       "    .dataframe tbody tr th {\n",
       "        vertical-align: top;\n",
       "    }\n",
       "\n",
       "    .dataframe thead th {\n",
       "        text-align: right;\n",
       "    }\n",
       "</style>\n",
       "<table border=\"1\" class=\"dataframe\">\n",
       "  <thead>\n",
       "    <tr style=\"text-align: right;\">\n",
       "      <th></th>\n",
       "      <th>soal</th>\n",
       "      <th>pos</th>\n",
       "      <th>version-soal</th>\n",
       "      <th>current-prob</th>\n",
       "      <th>current-level</th>\n",
       "      <th>kata-kerja</th>\n",
       "      <th>kata-hubung</th>\n",
       "    </tr>\n",
       "  </thead>\n",
       "  <tbody>\n",
       "    <tr>\n",
       "      <th>0</th>\n",
       "      <td>Bagian dari bidang biologi yang membutuhkan pe...</td>\n",
       "      <td>Bagian/NSD dari/R-- bidang/NSD biologi/NSD yan...</td>\n",
       "      <td>001v001</td>\n",
       "      <td>0.2</td>\n",
       "      <td>3</td>\n",
       "      <td>1</td>\n",
       "      <td>3</td>\n",
       "    </tr>\n",
       "  </tbody>\n",
       "</table>\n",
       "</div>"
      ],
      "text/plain": [
       "                                                soal  \\\n",
       "0  Bagian dari bidang biologi yang membutuhkan pe...   \n",
       "\n",
       "                                                 pos version-soal  \\\n",
       "0  Bagian/NSD dari/R-- bidang/NSD biologi/NSD yan...      001v001   \n",
       "\n",
       "   current-prob  current-level  kata-kerja  kata-hubung  \n",
       "0           0.2              3           1            3  "
      ]
     },
     "execution_count": 33,
     "metadata": {},
     "output_type": "execute_result"
    }
   ],
   "source": [
    "# hitung jumlah kata kerja dan kata hubungn\n",
    "def hitung_kata_kerja_dan_hubung(pos_text):\n",
    "  words = pos_text.split()\n",
    "  kata_kerja = sum(1 for word in words if \"/V\" in word)\n",
    "  kata_hubung = sum(1 for word in words if any(tag in word for tag in [\"/R\", \"/S\", \"/C\"]))\n",
    "  return kata_kerja, kata_hubung\n",
    "\n",
    "data_with_pos[[\"kata-kerja\", \"kata-hubung\"]] = data_with_pos[\"pos\"].apply(lambda x: pd.Series(hitung_kata_kerja_dan_hubung(x)))\n",
    "data_with_pos.head(1)"
   ]
  },
  {
   "cell_type": "code",
   "execution_count": 35,
   "metadata": {},
   "outputs": [
    {
     "data": {
      "text/html": [
       "<div>\n",
       "<style scoped>\n",
       "    .dataframe tbody tr th:only-of-type {\n",
       "        vertical-align: middle;\n",
       "    }\n",
       "\n",
       "    .dataframe tbody tr th {\n",
       "        vertical-align: top;\n",
       "    }\n",
       "\n",
       "    .dataframe thead th {\n",
       "        text-align: right;\n",
       "    }\n",
       "</style>\n",
       "<table border=\"1\" class=\"dataframe\">\n",
       "  <thead>\n",
       "    <tr style=\"text-align: right;\">\n",
       "      <th></th>\n",
       "      <th>soal</th>\n",
       "      <th>pos</th>\n",
       "      <th>version-soal</th>\n",
       "      <th>current-prob</th>\n",
       "      <th>current-level</th>\n",
       "      <th>kata-kerja</th>\n",
       "      <th>kata-hubung</th>\n",
       "      <th>jumlah-kata</th>\n",
       "    </tr>\n",
       "  </thead>\n",
       "  <tbody>\n",
       "    <tr>\n",
       "      <th>0</th>\n",
       "      <td>Bagian dari bidang biologi yang membutuhkan pe...</td>\n",
       "      <td>Bagian/NSD dari/R-- bidang/NSD biologi/NSD yan...</td>\n",
       "      <td>001v001</td>\n",
       "      <td>0.2</td>\n",
       "      <td>3</td>\n",
       "      <td>1</td>\n",
       "      <td>3</td>\n",
       "      <td>10</td>\n",
       "    </tr>\n",
       "  </tbody>\n",
       "</table>\n",
       "</div>"
      ],
      "text/plain": [
       "                                                soal  \\\n",
       "0  Bagian dari bidang biologi yang membutuhkan pe...   \n",
       "\n",
       "                                                 pos version-soal  \\\n",
       "0  Bagian/NSD dari/R-- bidang/NSD biologi/NSD yan...      001v001   \n",
       "\n",
       "   current-prob  current-level  kata-kerja  kata-hubung  jumlah-kata  \n",
       "0           0.2              3           1            3           10  "
      ]
     },
     "execution_count": 35,
     "metadata": {},
     "output_type": "execute_result"
    }
   ],
   "source": [
    "# hitung total kata tiap soal\n",
    "data_with_pos[\"jumlah-kata\"] = data_with_pos[\"soal\"].apply(lambda x: len(str(x).split()))\n",
    "data_with_pos.head(1)"
   ]
  },
  {
   "cell_type": "code",
   "execution_count": 36,
   "metadata": {},
   "outputs": [
    {
     "data": {
      "text/html": [
       "<div>\n",
       "<style scoped>\n",
       "    .dataframe tbody tr th:only-of-type {\n",
       "        vertical-align: middle;\n",
       "    }\n",
       "\n",
       "    .dataframe tbody tr th {\n",
       "        vertical-align: top;\n",
       "    }\n",
       "\n",
       "    .dataframe thead th {\n",
       "        text-align: right;\n",
       "    }\n",
       "</style>\n",
       "<table border=\"1\" class=\"dataframe\">\n",
       "  <thead>\n",
       "    <tr style=\"text-align: right;\">\n",
       "      <th></th>\n",
       "      <th>soal</th>\n",
       "      <th>pos</th>\n",
       "      <th>version-soal</th>\n",
       "      <th>current-prob</th>\n",
       "      <th>current-level</th>\n",
       "      <th>kata-kerja</th>\n",
       "      <th>kata-hubung</th>\n",
       "      <th>jumlah-kata</th>\n",
       "      <th>rasio-verb</th>\n",
       "      <th>rasio-conj</th>\n",
       "    </tr>\n",
       "  </thead>\n",
       "  <tbody>\n",
       "    <tr>\n",
       "      <th>0</th>\n",
       "      <td>Bagian dari bidang biologi yang membutuhkan pe...</td>\n",
       "      <td>Bagian/NSD dari/R-- bidang/NSD biologi/NSD yan...</td>\n",
       "      <td>001v001</td>\n",
       "      <td>0.2</td>\n",
       "      <td>3</td>\n",
       "      <td>1</td>\n",
       "      <td>3</td>\n",
       "      <td>10</td>\n",
       "      <td>0.1</td>\n",
       "      <td>0.3</td>\n",
       "    </tr>\n",
       "  </tbody>\n",
       "</table>\n",
       "</div>"
      ],
      "text/plain": [
       "                                                soal  \\\n",
       "0  Bagian dari bidang biologi yang membutuhkan pe...   \n",
       "\n",
       "                                                 pos version-soal  \\\n",
       "0  Bagian/NSD dari/R-- bidang/NSD biologi/NSD yan...      001v001   \n",
       "\n",
       "   current-prob  current-level  kata-kerja  kata-hubung  jumlah-kata  \\\n",
       "0           0.2              3           1            3           10   \n",
       "\n",
       "   rasio-verb  rasio-conj  \n",
       "0         0.1         0.3  "
      ]
     },
     "execution_count": 36,
     "metadata": {},
     "output_type": "execute_result"
    }
   ],
   "source": [
    "# hitung rasio kata kerja dan kata hubung dengan total kata tiap soal\n",
    "data_with_pos[\"rasio-verb\"] = data_with_pos[\"kata-kerja\"] / data_with_pos[\"jumlah-kata\"]\n",
    "data_with_pos[\"rasio-conj\"] = data_with_pos[\"kata-hubung\"] / data_with_pos[\"jumlah-kata\"]\n",
    "data_with_pos.head(1)"
   ]
  },
  {
   "cell_type": "code",
   "execution_count": 48,
   "metadata": {},
   "outputs": [
    {
     "name": "stdout",
     "output_type": "stream",
     "text": [
      "Korelasi antara rasio kata kerja dan level soal  : -0.04090883220918993\n",
      "Korelasi antara rasio kata hubung dan level soal : 0.05756569809901119\n"
     ]
    }
   ],
   "source": [
    "# lihat korelasi kompleksitas kalimat berdasarkan level soal\n",
    "corr_verbs = data_with_pos[[\"rasio-verb\", \"current-level\"]].corr().iloc[0, 1]\n",
    "corr_conj = data_with_pos[[\"rasio-conj\",  \"current-level\"]].corr().iloc[0, 1]\n",
    "\n",
    "print(f\"Korelasi antara rasio kata kerja dan level soal  : {corr_verbs}\")\n",
    "print(f\"Korelasi antara rasio kata hubung dan level soal : {corr_conj}\")"
   ]
  },
  {
   "cell_type": "code",
   "execution_count": 39,
   "metadata": {},
   "outputs": [
    {
     "data": {
      "image/png": "[encoded data removed]",
      "text/plain": [
       "<Figure size 640x480 with 1 Axes>"
      ]
     },
     "metadata": {},
     "output_type": "display_data"
    },
    {
     "data": {
      "image/png": "[encoded data removed]",
      "text/plain": [
       "<Figure size 640x480 with 1 Axes>"
      ]
     },
     "metadata": {},
     "output_type": "display_data"
    }
   ],
   "source": [
    "import seaborn as sns\n",
    "import matplotlib.pyplot as plt\n",
    "\n",
    "sns.boxplot(data=data_with_pos, x=\"current-level\", y=\"rasio-verb\")\n",
    "plt.title(\"Rasio Kata Kerja terhadap Level Soal\")\n",
    "plt.show()\n",
    "\n",
    "sns.boxplot(data=data_with_pos, x=\"current-level\", y=\"rasio-conj\")\n",
    "plt.title(\"Rasio Kata Hubung terhadap Level Soal\")\n",
    "plt.show()\n"
   ]
  },
  {
   "cell_type": "code",
   "execution_count": 42,
   "metadata": {},
   "outputs": [
    {
     "name": "stdout",
     "output_type": "stream",
     "text": [
      "Korelasi rasio kompleksitas terhadap level soal: 0.017460432423793627\n"
     ]
    }
   ],
   "source": [
    "# lihat dari sisi kompleksitas soal\n",
    "data_with_pos[\"jumlah-kompleksitas\"] = data_with_pos[\"kata-kerja\"] + data_with_pos[\"kata-hubung\"]\n",
    "data_with_pos[\"rasio-kompleksitas\"] = data_with_pos[\"jumlah-kompleksitas\"] / data_with_pos[\"jumlah-kata\"]\n",
    "corr_kompleksitas = data_with_pos[[\"current-level\", \"rasio-kompleksitas\"]].corr().iloc[0, 1]\n",
    "print(f\"Korelasi rasio kompleksitas terhadap level soal: {corr_kompleksitas}\")\n"
   ]
  },
  {
   "cell_type": "code",
   "execution_count": 46,
   "metadata": {},
   "outputs": [
    {
     "data": {
      "image/png": "[encoded data removed]",
      "text/plain": [
       "<Figure size 750x500 with 1 Axes>"
      ]
     },
     "metadata": {},
     "output_type": "display_data"
    }
   ],
   "source": [
    "sns.lmplot(data=data_with_pos, x=\"rasio-kompleksitas\", y=\"current-level\", aspect=1.5)\n",
    "plt.title(\"Rasio Kompleksitas Linguistik vs Level Soal\")\n",
    "plt.show()"
   ]
  },
  {
   "cell_type": "code",
   "execution_count": 44,
   "metadata": {},
   "outputs": [
    {
     "data": {
      "image/png": "[encoded data removed]",
      "text/plain": [
       "<Figure size 640x480 with 1 Axes>"
      ]
     },
     "metadata": {},
     "output_type": "display_data"
    }
   ],
   "source": [
    "sns.boxplot(data=data_with_pos, x=\"current-level\", y=\"rasio-kompleksitas\")\n",
    "plt.title(\"Distribusi Rasio Kompleksitas per Level Soal\")\n",
    "plt.xlabel(\"Level Soal\")\n",
    "plt.ylabel(\"Rasio Kompleksitas\")\n",
    "plt.show()"
   ]
  },
  {
   "cell_type": "code",
   "execution_count": 49,
   "metadata": {},
   "outputs": [
    {
     "data": {
      "text/html": [
       "<div>\n",
       "<style scoped>\n",
       "    .dataframe tbody tr th:only-of-type {\n",
       "        vertical-align: middle;\n",
       "    }\n",
       "\n",
       "    .dataframe tbody tr th {\n",
       "        vertical-align: top;\n",
       "    }\n",
       "\n",
       "    .dataframe thead th {\n",
       "        text-align: right;\n",
       "    }\n",
       "</style>\n",
       "<table border=\"1\" class=\"dataframe\">\n",
       "  <thead>\n",
       "    <tr style=\"text-align: right;\">\n",
       "      <th></th>\n",
       "      <th>soal</th>\n",
       "      <th>pos</th>\n",
       "      <th>version-soal</th>\n",
       "      <th>current-prob</th>\n",
       "      <th>current-level</th>\n",
       "      <th>kata-kerja</th>\n",
       "      <th>kata-hubung</th>\n",
       "      <th>jumlah-kata</th>\n",
       "      <th>rasio-verb</th>\n",
       "      <th>rasio-conj</th>\n",
       "      <th>jumlah-kompleksitas</th>\n",
       "      <th>rasio-kompleksitas</th>\n",
       "    </tr>\n",
       "  </thead>\n",
       "  <tbody>\n",
       "    <tr>\n",
       "      <th>0</th>\n",
       "      <td>Bagian dari bidang biologi yang membutuhkan pe...</td>\n",
       "      <td>Bagian/NSD dari/R-- bidang/NSD biologi/NSD yan...</td>\n",
       "      <td>001v001</td>\n",
       "      <td>0.2</td>\n",
       "      <td>3</td>\n",
       "      <td>1</td>\n",
       "      <td>3</td>\n",
       "      <td>10</td>\n",
       "      <td>0.1</td>\n",
       "      <td>0.3</td>\n",
       "      <td>4</td>\n",
       "      <td>0.4</td>\n",
       "    </tr>\n",
       "  </tbody>\n",
       "</table>\n",
       "</div>"
      ],
      "text/plain": [
       "                                                soal  \\\n",
       "0  Bagian dari bidang biologi yang membutuhkan pe...   \n",
       "\n",
       "                                                 pos version-soal  \\\n",
       "0  Bagian/NSD dari/R-- bidang/NSD biologi/NSD yan...      001v001   \n",
       "\n",
       "   current-prob  current-level  kata-kerja  kata-hubung  jumlah-kata  \\\n",
       "0           0.2              3           1            3           10   \n",
       "\n",
       "   rasio-verb  rasio-conj  jumlah-kompleksitas  rasio-kompleksitas  \n",
       "0         0.1         0.3                    4                 0.4  "
      ]
     },
     "execution_count": 49,
     "metadata": {},
     "output_type": "execute_result"
    }
   ],
   "source": [
    "data_with_pos.head(1)"
   ]
  }
 ],
 "metadata": {
  "kernelspec": {
   "display_name": "Python 3",
   "language": "python",
   "name": "python3"
  },
  "language_info": {
   "codemirror_mode": {
    "name": "ipython",
    "version": 3
   },
   "file_extension": ".py",
   "mimetype": "text/x-python",
   "name": "python",
   "nbconvert_exporter": "python",
   "pygments_lexer": "ipython3",
   "version": "3.12.9"
  }
 },
 "nbformat": 4,
 "nbformat_minor": 2
}
