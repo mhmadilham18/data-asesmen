{
 "cells": [
  {
   "cell_type": "code",
   "execution_count": 7,
   "metadata": {},
   "outputs": [
    {
     "data": {
      "text/html": [
       "<div>\n",
       "<style scoped>\n",
       "    .dataframe tbody tr th:only-of-type {\n",
       "        vertical-align: middle;\n",
       "    }\n",
       "\n",
       "    .dataframe tbody tr th {\n",
       "        vertical-align: top;\n",
       "    }\n",
       "\n",
       "    .dataframe thead th {\n",
       "        text-align: right;\n",
       "    }\n",
       "</style>\n",
       "<table border=\"1\" class=\"dataframe\">\n",
       "  <thead>\n",
       "    <tr style=\"text-align: right;\">\n",
       "      <th></th>\n",
       "      <th>soal</th>\n",
       "      <th>pos</th>\n",
       "      <th>version-soal</th>\n",
       "      <th>current-prob</th>\n",
       "    </tr>\n",
       "  </thead>\n",
       "  <tbody>\n",
       "    <tr>\n",
       "      <th>0</th>\n",
       "      <td>Bagian dari bidang biologi yang membutuhkan pe...</td>\n",
       "      <td>Bagian/NSD dari/R-- bidang/NSD biologi/NSD yan...</td>\n",
       "      <td>001v001</td>\n",
       "      <td>0.20</td>\n",
       "    </tr>\n",
       "    <tr>\n",
       "      <th>1</th>\n",
       "      <td>Dalam studi biologi, penggunaan mikroskop dipe...</td>\n",
       "      <td>Dalam/NSD studi/NSD biologi/NSD ,/Z-- pengguna...</td>\n",
       "      <td>001v002</td>\n",
       "      <td>0.73</td>\n",
       "    </tr>\n",
       "  </tbody>\n",
       "</table>\n",
       "</div>"
      ],
      "text/plain": [
       "                                                soal  \\\n",
       "0  Bagian dari bidang biologi yang membutuhkan pe...   \n",
       "1  Dalam studi biologi, penggunaan mikroskop dipe...   \n",
       "\n",
       "                                                 pos version-soal  \\\n",
       "0  Bagian/NSD dari/R-- bidang/NSD biologi/NSD yan...      001v001   \n",
       "1  Dalam/NSD studi/NSD biologi/NSD ,/Z-- pengguna...      001v002   \n",
       "\n",
       "   current-prob  \n",
       "0          0.20  \n",
       "1          0.73  "
      ]
     },
     "execution_count": 7,
     "metadata": {},
     "output_type": "execute_result"
    }
   ],
   "source": [
    "import pandas as pd\n",
    "# read data hasil pos\n",
    "df = pd.read_excel(\"./output/hasil-pos-tagging.xlsx\")\n",
    "df.head(2)"
   ]
  },
  {
   "cell_type": "code",
   "execution_count": 8,
   "metadata": {},
   "outputs": [],
   "source": [
    "# try to analyze\n",
    "# banyak kata hubung -> soal menjadi ambigu ?\n",
    "# banyak kata kerja -> soal terlalu kompleks/sulit ?\n",
    "def analyze_soal(pos_text):\n",
    "  words = pos_text.split()\n",
    "  num_verbs = sum(1 for word in words if \"/VSA\" in word)\n",
    "  num_conj = sum(1 for word in words if any(tag in word for tag in [\"/R--\", \"/S--\"]))\n",
    "  return num_verbs, num_conj\n"
   ]
  },
  {
   "cell_type": "code",
   "execution_count": 9,
   "metadata": {},
   "outputs": [
    {
     "data": {
      "text/html": [
       "<div>\n",
       "<style scoped>\n",
       "    .dataframe tbody tr th:only-of-type {\n",
       "        vertical-align: middle;\n",
       "    }\n",
       "\n",
       "    .dataframe tbody tr th {\n",
       "        vertical-align: top;\n",
       "    }\n",
       "\n",
       "    .dataframe thead th {\n",
       "        text-align: right;\n",
       "    }\n",
       "</style>\n",
       "<table border=\"1\" class=\"dataframe\">\n",
       "  <thead>\n",
       "    <tr style=\"text-align: right;\">\n",
       "      <th></th>\n",
       "      <th>soal</th>\n",
       "      <th>pos</th>\n",
       "      <th>version-soal</th>\n",
       "      <th>current-prob</th>\n",
       "      <th>num_verbs</th>\n",
       "      <th>num_conj</th>\n",
       "    </tr>\n",
       "  </thead>\n",
       "  <tbody>\n",
       "    <tr>\n",
       "      <th>0</th>\n",
       "      <td>Bagian dari bidang biologi yang membutuhkan pe...</td>\n",
       "      <td>Bagian/NSD dari/R-- bidang/NSD biologi/NSD yan...</td>\n",
       "      <td>001v001</td>\n",
       "      <td>0.20</td>\n",
       "      <td>1</td>\n",
       "      <td>3</td>\n",
       "    </tr>\n",
       "    <tr>\n",
       "      <th>1</th>\n",
       "      <td>Dalam studi biologi, penggunaan mikroskop dipe...</td>\n",
       "      <td>Dalam/NSD studi/NSD biologi/NSD ,/Z-- pengguna...</td>\n",
       "      <td>001v002</td>\n",
       "      <td>0.73</td>\n",
       "      <td>1</td>\n",
       "      <td>2</td>\n",
       "    </tr>\n",
       "    <tr>\n",
       "      <th>2</th>\n",
       "      <td>Ilmu biologi yang membutuhkan penggunaan mikro...</td>\n",
       "      <td>Ilmu/NSD biologi/NSD yang/S-- membutuhkan/VSA ...</td>\n",
       "      <td>001v003</td>\n",
       "      <td>0.13</td>\n",
       "      <td>2</td>\n",
       "      <td>3</td>\n",
       "    </tr>\n",
       "  </tbody>\n",
       "</table>\n",
       "</div>"
      ],
      "text/plain": [
       "                                                soal  \\\n",
       "0  Bagian dari bidang biologi yang membutuhkan pe...   \n",
       "1  Dalam studi biologi, penggunaan mikroskop dipe...   \n",
       "2  Ilmu biologi yang membutuhkan penggunaan mikro...   \n",
       "\n",
       "                                                 pos version-soal  \\\n",
       "0  Bagian/NSD dari/R-- bidang/NSD biologi/NSD yan...      001v001   \n",
       "1  Dalam/NSD studi/NSD biologi/NSD ,/Z-- pengguna...      001v002   \n",
       "2  Ilmu/NSD biologi/NSD yang/S-- membutuhkan/VSA ...      001v003   \n",
       "\n",
       "   current-prob  num_verbs  num_conj  \n",
       "0          0.20          1         3  \n",
       "1          0.73          1         2  \n",
       "2          0.13          2         3  "
      ]
     },
     "execution_count": 9,
     "metadata": {},
     "output_type": "execute_result"
    }
   ],
   "source": [
    "df[[\"num_verbs\", \"num_conj\"]] = df[\"pos\"].apply(lambda x: pd.Series(analyze_soal(x)))\n",
    "df.head(3)"
   ]
  }
 ],
 "metadata": {
  "kernelspec": {
   "display_name": "Python 3",
   "language": "python",
   "name": "python3"
  },
  "language_info": {
   "codemirror_mode": {
    "name": "ipython",
    "version": 3
   },
   "file_extension": ".py",
   "mimetype": "text/x-python",
   "name": "python",
   "nbconvert_exporter": "python",
   "pygments_lexer": "ipython3",
   "version": "3.12.9"
  }
 },
 "nbformat": 4,
 "nbformat_minor": 2
}
