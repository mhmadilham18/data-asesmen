{
 "cells": [
  {
   "cell_type": "code",
   "execution_count": 11,
   "metadata": {},
   "outputs": [],
   "source": [
    "import sqlite3"
   ]
  },
  {
   "cell_type": "code",
   "execution_count": 12,
   "metadata": {},
   "outputs": [],
   "source": [
    "conn = sqlite3.connect(\"./data/data.sqlite\")\n",
    "cursor = conn.cursor()"
   ]
  },
  {
   "cell_type": "code",
   "execution_count": 13,
   "metadata": {},
   "outputs": [],
   "source": [
    "# get data soal\n",
    "cursor.execute(\"SELECT soal_id, pertanyaan FROM soal\")\n",
    "soal_data = cursor.fetchall()"
   ]
  },
  {
   "cell_type": "code",
   "execution_count": 14,
   "metadata": {},
   "outputs": [],
   "source": [
    "# get data siswa\n",
    "cursor.execute(\"\"\"\n",
    "  SELECT soal_id,\n",
    "              SUM(benar) AS jumlah_menjawab_benar,\n",
    "              COUNT(*) AS total_kemunculan\n",
    "  FROM hasil\n",
    "  GROUP BY soal_id\n",
    "\"\"\")\n",
    "hasil_data = {row[0]: (row[1], row[2]) for row in cursor.fetchall()}\n",
    "data_output = []"
   ]
  },
  {
   "cell_type": "code",
   "execution_count": 15,
   "metadata": {},
   "outputs": [],
   "source": [
    "# merge soal_data & data_output\n",
    "for soal_id, pertanyaan in soal_data:\n",
    "  jumlah_menjawab_benar, total_kemunculan = hasil_data.get(soal_id, (0, 0))\n",
    "  data_output.append([soal_id, pertanyaan, jumlah_menjawab_benar, total_kemunculan])"
   ]
  },
  {
   "cell_type": "code",
   "execution_count": 19,
   "metadata": {},
   "outputs": [
    {
     "name": "stdout",
     "output_type": "stream",
     "text": [
      "Export success\n"
     ]
    }
   ],
   "source": [
    "# convert into dataframe\n",
    "import pandas as pd\n",
    "df = pd.DataFrame(data_output, columns=[\"soal_id\", \"pertanyaan\", \"jumlah_menjawab_benar\", \"total_kemunculan\"])\n",
    "df.to_excel(\"dataset_soal.xlsx\", index=False)\n",
    "print(\"Export success\")"
   ]
  },
  {
   "cell_type": "code",
   "execution_count": 20,
   "metadata": {},
   "outputs": [],
   "source": [
    "conn.close()"
   ]
  }
 ],
 "metadata": {
  "kernelspec": {
   "display_name": "Python 3",
   "language": "python",
   "name": "python3"
  },
  "language_info": {
   "codemirror_mode": {
    "name": "ipython",
    "version": 3
   },
   "file_extension": ".py",
   "mimetype": "text/x-python",
   "name": "python",
   "nbconvert_exporter": "python",
   "pygments_lexer": "ipython3",
   "version": "3.12.9"
  }
 },
 "nbformat": 4,
 "nbformat_minor": 2
}
