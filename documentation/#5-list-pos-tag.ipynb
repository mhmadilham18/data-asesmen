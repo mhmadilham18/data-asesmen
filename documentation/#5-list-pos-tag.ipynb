{
 "cells": [
  {
   "cell_type": "code",
   "execution_count": 1,
   "metadata": {},
   "outputs": [],
   "source": [
    "import pandas as pd"
   ]
  },
  {
   "cell_type": "code",
   "execution_count": 2,
   "metadata": {},
   "outputs": [
    {
     "name": "stdout",
     "output_type": "stream",
     "text": [
      "List POS Tag :  {'ASP', 'VSA', 'PP1', 'NSD', 'M--', 'NSM', 'CO-', 'W--', 'G--', 'CC-', 'X--', 'S--', 'O--', 'PS2', 'PS3', 'T--', 'F--', 'B--', 'R--', 'VSP', 'Z--', 'H--', 'ASS', 'D--'}\n"
     ]
    }
   ],
   "source": [
    "data = pd.read_excel('./output/hasil-pos-tagging.xlsx')\n",
    "data_pos = set()\n",
    "data['pos'].dropna().apply(lambda x: data_pos.update([word.split('/')[-1] for word in x.split()]))\n",
    "print(\"List POS Tag : \", data_pos)"
   ]
  },
  {
   "cell_type": "code",
   "execution_count": 3,
   "metadata": {},
   "outputs": [],
   "source": [
    "from collections import Counter"
   ]
  },
  {
   "cell_type": "code",
   "execution_count": 28,
   "metadata": {},
   "outputs": [
    {
     "name": "stdout",
     "output_type": "stream",
     "text": [
      "Frekuensi label POS:\n",
      "NSD: 758\n",
      "Z--: 206\n",
      "R--: 201\n",
      "VSA: 201\n",
      "X--: 128\n",
      "S--: 124\n",
      "ASP: 114\n",
      "O--: 94\n",
      "VSP: 77\n",
      "B--: 55\n",
      "CC-: 49\n",
      "H--: 35\n",
      "F--: 31\n",
      "D--: 25\n",
      "G--: 20\n",
      "PS3: 20\n",
      "M--: 11\n",
      "T--: 7\n",
      "W--: 4\n",
      "ASS: 4\n",
      "NSM: 3\n",
      "PP1: 3\n",
      "CO-: 2\n",
      "PS2: 1\n"
     ]
    }
   ],
   "source": [
    "pos_counter = Counter()\n",
    "data['pos'].dropna().apply(lambda x: pos_counter.update([word.split('/')[-1] for word in x.split()]))\n",
    "\n",
    "# Menampilkan hasil\n",
    "pos_freq = sorted(pos_counter.items(), key=lambda x: x[1], reverse=True)\n",
    "print(\"Frekuensi label POS:\")\n",
    "for label, freq in pos_freq:\n",
    "    print(f\"{label}: {freq}\")"
   ]
  },
  {
   "cell_type": "code",
   "execution_count": null,
   "metadata": {},
   "outputs": [
    {
     "data": {
      "image/png": "[encoded data removed]",
      "text/plain": [
       "<Figure size 1000x500 with 1 Axes>"
      ]
     },
     "metadata": {},
     "output_type": "display_data"
    }
   ],
   "source": [
    "import matplotlib.pyplot as plt\n",
    "\n",
    "# ambil 10 POS yang paling sering muncul\n",
    "top_n = 10\n",
    "labels, counts = zip(*pos_freq[:top_n])\n",
    "\n",
    "plt.figure(figsize=(10, 5))\n",
    "plt.bar(labels, counts, color='skyblue')\n",
    "plt.xlabel(\"POS Tags\")\n",
    "plt.ylabel(\"Frequency\")\n",
    "plt.title(f\"Top {top_n} POS Tag Sering Muncul\")\n",
    "plt.xticks(rotation=45)\n",
    "plt.show()\n"
   ]
  },
  {
   "cell_type": "code",
   "execution_count": 9,
   "metadata": {},
   "outputs": [],
   "source": [
    "# distribusi pos per soal\n",
    "def get_pos_distribution(pos_text):\n",
    "    pos_list = [word.split('/')[-1] for word in pos_text.split()]\n",
    "    return dict(Counter(pos_list))"
   ]
  },
  {
   "cell_type": "code",
   "execution_count": 12,
   "metadata": {},
   "outputs": [],
   "source": [
    "data['pos-dist'] = data['pos'].dropna().apply(get_pos_distribution)"
   ]
  },
  {
   "cell_type": "code",
   "execution_count": 16,
   "metadata": {},
   "outputs": [
    {
     "name": "stdout",
     "output_type": "stream",
     "text": [
      "Soal 1: Bagian dari bidang biologi yang membutuhkan penggunaan mikroskop, sebagai contoh\n",
      "Distribusi POS: {'NSD': 5, 'R--': 2, 'S--': 1, 'VSA': 1, 'X--': 1, 'Z--': 1}\n",
      "--------------------------------------------------\n",
      "Soal 2: Dalam studi biologi, penggunaan mikroskop diperlukan untuk mempelajari hal seperti\n",
      "Distribusi POS: {'NSD': 5, 'Z--': 1, 'X--': 1, 'VSP': 1, 'R--': 2, 'VSA': 1}\n",
      "--------------------------------------------------\n",
      "Soal 3: Ilmu biologi yang membutuhkan penggunaan mikroskop untuk mengkaji, sebagai contoh\n",
      "Distribusi POS: {'NSD': 4, 'S--': 1, 'VSA': 2, 'X--': 1, 'R--': 2, 'Z--': 1}\n",
      "--------------------------------------------------\n",
      "Soal 4: Cabang biologi yang mendorong peneliti untuk menghasilkan bibit unggul melalui hibridisasi (persilangan) \n",
      "Distribusi POS: {'NSD': 5, 'S--': 1, 'VSA': 2, 'R--': 2, 'ASP': 1, 'X--': 1, 'Z--': 2}\n",
      "--------------------------------------------------\n",
      "Soal 5: Cabang ilmu biologi yang menjadi dasar bagi peneliti dalam mengembangkan bibit unggul melalui teknik persilangan\n",
      "Distribusi POS: {'NSD': 8, 'S--': 1, 'VSA': 2, 'R--': 2, 'ASP': 2}\n",
      "--------------------------------------------------\n",
      "Soal 6: Bidang biologi yang mendasari upaya para peneliti dalam meningkatkan produksi pangan melalui pengembangan bibit unggul menggunakan hibridisasi\n",
      "Distribusi POS: {'NSD': 8, 'S--': 1, 'VSA': 3, 'B--': 1, 'ASP': 2, 'R--': 1, 'X--': 1}\n",
      "--------------------------------------------------\n"
     ]
    }
   ],
   "source": [
    "for idx, row in data.head(6).iterrows():  # Tampilkan 6 soal pertama\n",
    "    print(f\"Soal {idx+1}: {row['soal']}\")\n",
    "    print(f\"Distribusi POS: {row['pos-dist']}\")\n",
    "    print(\"-\" * 50)"
   ]
  },
  {
   "cell_type": "code",
   "execution_count": 20,
   "metadata": {},
   "outputs": [],
   "source": [
    "import numpy as np\n",
    "from difflib import SequenceMatcher\n",
    "from scipy.spatial.distance import cosine\n",
    "from sklearn.feature_extraction.text import CountVectorizer"
   ]
  },
  {
   "cell_type": "code",
   "execution_count": 21,
   "metadata": {},
   "outputs": [],
   "source": [
    "# ekstrak versi soal ori dan augmen\n",
    "def extract_quest_info(version_soal):\n",
    "  quest_id, version = version_soal.split('v')\n",
    "  return int(quest_id), int(version)\n"
   ]
  },
  {
   "cell_type": "code",
   "execution_count": 22,
   "metadata": {},
   "outputs": [],
   "source": [
    "data[['question_id', 'version']] = data['version-soal'].apply(lambda x: pd.Series(extract_quest_info(x)))\n"
   ]
  },
  {
   "cell_type": "code",
   "execution_count": 23,
   "metadata": {},
   "outputs": [],
   "source": [
    "# pisah ori dengan augmen\n",
    "original = data[data['version'] == 1]\n",
    "augmented = data[data['version'] > 1]"
   ]
  },
  {
   "cell_type": "code",
   "execution_count": 34,
   "metadata": {},
   "outputs": [],
   "source": [
    "# gabung berdasar id soal\n",
    "merged = original[['question_id', 'pos-dist', 'pos', 'current-prob']].rename(columns={'pos-dist': 'pos-dist-original', 'pos': 'pos-original'}).merge(\n",
    "    augmented[['question_id', 'version', 'pos-dist', 'pos', 'current-prob']],\n",
    "    on='question_id',\n",
    "    how='inner'\n",
    ")\n"
   ]
  },
  {
   "cell_type": "code",
   "execution_count": 35,
   "metadata": {},
   "outputs": [],
   "source": [
    "# lihat kesamaan POS\n",
    "# 1. Levenshtein Similarity  \n",
    "def levenshtein_similarity(seq1, seq2):\n",
    "    return SequenceMatcher(None, seq1, seq2).ratio()\n",
    "\n",
    "# 2. Jaccard Similarity  \n",
    "def jaccard_similarity(pos1, pos2):\n",
    "    set1, set2 = set(pos1), set(pos2)\n",
    "    return len(set1 & set2) / len(set1 | set2)\n",
    "\n",
    "# 3. Cosine Similarity  \n",
    "def cosine_similarity(pos1, pos2):\n",
    "    vectorizer = CountVectorizer(tokenizer=lambda txt: txt.split())\n",
    "    vectors = vectorizer.fit_transform([' '.join(pos1), ' '.join(pos2)]).toarray()\n",
    "    return 1 - cosine(vectors[0], vectors[1])"
   ]
  },
  {
   "cell_type": "code",
   "execution_count": 36,
   "metadata": {},
   "outputs": [
    {
     "name": "stderr",
     "output_type": "stream",
     "text": [
      "C:\\Users\\ASUS\\AppData\\Local\\Packages\\PythonSoftwareFoundation.Python.3.12_qbz5n2kfra8p0\\LocalCache\\local-packages\\Python312\\site-packages\\sklearn\\feature_extraction\\text.py:523: UserWarning: The parameter 'token_pattern' will not be used since 'tokenizer' is not None'\n",
      "  warnings.warn(\n"
     ]
    }
   ],
   "source": [
    "merged['levenshtein_sim'] = merged.apply(lambda row: levenshtein_similarity(\n",
    "    row['pos-original'].split(), row['pos'].split()), axis=1)\n",
    "\n",
    "merged['jaccard_sim'] = merged.apply(lambda row: jaccard_similarity(\n",
    "    row['pos-original'].split(), row['pos'].split()), axis=1)\n",
    "\n",
    "merged['cosine_sim'] = merged.apply(lambda row: cosine_similarity(\n",
    "    row['pos-original'].split(), row['pos'].split()), axis=1)"
   ]
  },
  {
   "cell_type": "code",
   "execution_count": 37,
   "metadata": {},
   "outputs": [
    {
     "name": "stdout",
     "output_type": "stream",
     "text": [
      "     question_id  version  levenshtein_sim  jaccard_sim  cosine_sim\n",
      "0              1        2         0.272727     0.222222    0.363636\n",
      "1              1        3         0.727273     0.571429    0.727273\n",
      "2              2        2         0.551724     0.380952    0.552052\n",
      "3              2        3         0.387097     0.291667    0.453743\n",
      "4              4        2         0.600000     0.526316    0.688847\n",
      "..           ...      ...              ...          ...         ...\n",
      "97           114        3         0.571429     0.400000    0.667424\n",
      "98           115        2         0.500000     0.500000    0.752618\n",
      "99           115        3         0.272727     0.222222    0.545455\n",
      "100          116        2         0.428571     0.285714    0.566947\n",
      "101          116        3         0.413793     0.227273    0.608581\n",
      "\n",
      "[102 rows x 5 columns]\n"
     ]
    }
   ],
   "source": [
    "# Tampilkan hasil\n",
    "print(merged[['question_id', 'version', 'levenshtein_sim', 'jaccard_sim', 'cosine_sim']])\n",
    "\n",
    "# Simpan hasil ke file baru untuk analisis lebih lanjut\n",
    "merged.to_excel('./output/hasil_perbandingan_pos.xlsx', index=False)"
   ]
  }
 ],
 "metadata": {
  "kernelspec": {
   "display_name": "Python 3",
   "language": "python",
   "name": "python3"
  },
  "language_info": {
   "codemirror_mode": {
    "name": "ipython",
    "version": 3
   },
   "file_extension": ".py",
   "mimetype": "text/x-python",
   "name": "python",
   "nbconvert_exporter": "python",
   "pygments_lexer": "ipython3",
   "version": "3.12.9"
  }
 },
 "nbformat": 4,
 "nbformat_minor": 2
}
