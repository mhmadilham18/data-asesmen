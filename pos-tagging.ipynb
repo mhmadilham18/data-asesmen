{
 "cells": [
  {
   "cell_type": "code",
   "execution_count": 3,
   "metadata": {},
   "outputs": [],
   "source": [
    "import stanza"
   ]
  },
  {
   "cell_type": "code",
   "execution_count": 5,
   "metadata": {},
   "outputs": [
    {
     "name": "stderr",
     "output_type": "stream",
     "text": [
      "Downloading https://raw.githubusercontent.com/stanfordnlp/stanza-resources/main/resources_1.10.0.json: 424kB [00:00, 4.73MB/s]                    \n",
      "2025-04-02 21:02:05 INFO: Downloaded file to C:\\Users\\ASUS\\stanza_resources\\resources.json\n",
      "2025-04-02 21:02:05 INFO: Downloading default packages for language: id (Indonesian) ...\n",
      "Downloading https://huggingface.co/stanfordnlp/stanza-id/resolve/v1.10.0/models/default.zip: 100%|██████████| 396M/396M [11:12<00:00, 588kB/s]  \n",
      "2025-04-02 21:13:21 INFO: Downloaded file to C:\\Users\\ASUS\\stanza_resources\\id\\default.zip\n",
      "2025-04-02 21:13:25 INFO: Finished downloading models and saved to C:\\Users\\ASUS\\stanza_resources\n"
     ]
    }
   ],
   "source": [
    "# download model bahasa indonesia\n",
    "stanza.download('id')"
   ]
  },
  {
   "cell_type": "code",
   "execution_count": 6,
   "metadata": {},
   "outputs": [
    {
     "name": "stderr",
     "output_type": "stream",
     "text": [
      "2025-04-02 21:15:22 INFO: Checking for updates to resources.json in case models have been updated.  Note: this behavior can be turned off with download_method=None or download_method=DownloadMethod.REUSE_RESOURCES\n",
      "Downloading https://raw.githubusercontent.com/stanfordnlp/stanza-resources/main/resources_1.10.0.json: 424kB [00:00, 3.03MB/s]                    \n",
      "2025-04-02 21:15:23 INFO: Downloaded file to C:\\Users\\ASUS\\stanza_resources\\resources.json\n",
      "2025-04-02 21:15:24 INFO: Loading these models for language: id (Indonesian):\n",
      "===============================\n",
      "| Processor    | Package      |\n",
      "-------------------------------\n",
      "| tokenize     | gsd          |\n",
      "| mwt          | gsd          |\n",
      "| pos          | gsd_charlm   |\n",
      "| lemma        | gsd_nocharlm |\n",
      "| constituency | icon_charlm  |\n",
      "| depparse     | gsd_charlm   |\n",
      "===============================\n",
      "\n",
      "2025-04-02 21:15:24 INFO: Using device: cpu\n",
      "2025-04-02 21:15:24 INFO: Loading: tokenize\n",
      "2025-04-02 21:15:37 INFO: Loading: mwt\n",
      "2025-04-02 21:15:37 INFO: Loading: pos\n",
      "2025-04-02 21:15:41 INFO: Loading: lemma\n",
      "2025-04-02 21:15:42 INFO: Loading: constituency\n",
      "2025-04-02 21:15:42 INFO: Loading: depparse\n",
      "2025-04-02 21:15:43 INFO: Done loading processors!\n"
     ]
    }
   ],
   "source": [
    "# inisiasi pipeline\n",
    "nlp = stanza.Pipeline('id')"
   ]
  },
  {
   "cell_type": "code",
   "execution_count": 9,
   "metadata": {},
   "outputs": [
    {
     "name": "stdout",
     "output_type": "stream",
     "text": [
      "Ilmu\tNOUN\n",
      "biologi\tNOUN\n",
      "yang\tPRON\n",
      "membutuhkan\tVERB\n",
      "penggunaan\tNOUN\n",
      "mikroskop\tNOUN\n",
      "untuk\tSCONJ\n",
      "mengkaji\tVERB\n",
      ",\tPUNCT\n",
      "sebagai\tADP\n",
      "contoh\tNOUN\n"
     ]
    }
   ],
   "source": [
    "text = \"Ilmu biologi yang membutuhkan penggunaan mikroskop untuk mengkaji, sebagai contoh\"\n",
    "doc = nlp(text)\n",
    "for sentence in doc.sentences:\n",
    "  for word in sentence.words:\n",
    "    print(f\"{word.text}\\t{word.upos}\")"
   ]
  },
  {
   "cell_type": "code",
   "execution_count": 10,
   "metadata": {},
   "outputs": [
    {
     "name": "stderr",
     "output_type": "stream",
     "text": [
      "2025-04-02 21:27:15 INFO: Checking for updates to resources.json in case models have been updated.  Note: this behavior can be turned off with download_method=None or download_method=DownloadMethod.REUSE_RESOURCES\n",
      "Downloading https://raw.githubusercontent.com/stanfordnlp/stanza-resources/main/resources_1.10.0.json: 424kB [00:00, 3.06MB/s]                    \n",
      "2025-04-02 21:27:16 INFO: Downloaded file to C:\\Users\\ASUS\\stanza_resources\\resources.json\n",
      "2025-04-02 21:27:16 WARNING: Language id package default expects mwt, which has been added\n",
      "2025-04-02 21:27:17 INFO: Loading these models for language: id (Indonesian):\n",
      "==========================\n",
      "| Processor | Package    |\n",
      "--------------------------\n",
      "| tokenize  | gsd        |\n",
      "| mwt       | gsd        |\n",
      "| pos       | gsd_charlm |\n",
      "==========================\n",
      "\n",
      "2025-04-02 21:27:17 INFO: Using device: cpu\n",
      "2025-04-02 21:27:17 INFO: Loading: tokenize\n",
      "2025-04-02 21:27:17 INFO: Loading: mwt\n",
      "2025-04-02 21:27:17 INFO: Loading: pos\n",
      "2025-04-02 21:27:21 INFO: Done loading processors!\n"
     ]
    }
   ],
   "source": [
    "# implement ke dataset\n",
    "nlp = stanza.Pipeline(lang='id', processors='tokenize,pos')"
   ]
  },
  {
   "cell_type": "code",
   "execution_count": 11,
   "metadata": {},
   "outputs": [
    {
     "data": {
      "text/html": [
       "<div>\n",
       "<style scoped>\n",
       "    .dataframe tbody tr th:only-of-type {\n",
       "        vertical-align: middle;\n",
       "    }\n",
       "\n",
       "    .dataframe tbody tr th {\n",
       "        vertical-align: top;\n",
       "    }\n",
       "\n",
       "    .dataframe thead th {\n",
       "        text-align: right;\n",
       "    }\n",
       "</style>\n",
       "<table border=\"1\" class=\"dataframe\">\n",
       "  <thead>\n",
       "    <tr style=\"text-align: right;\">\n",
       "      <th></th>\n",
       "      <th>soal</th>\n",
       "      <th>version-soal</th>\n",
       "      <th>opsi-1</th>\n",
       "      <th>opsi-2</th>\n",
       "      <th>opsi-3</th>\n",
       "      <th>opsi-4</th>\n",
       "      <th>opsi-5</th>\n",
       "      <th>opsi-benar</th>\n",
       "      <th>total-benar</th>\n",
       "      <th>total-salah</th>\n",
       "      <th>total-muncul</th>\n",
       "      <th>current-total-benar</th>\n",
       "      <th>current-total-muncul</th>\n",
       "      <th>prob-benar</th>\n",
       "      <th>current-prob</th>\n",
       "      <th>level-soal</th>\n",
       "      <th>current-level</th>\n",
       "    </tr>\n",
       "  </thead>\n",
       "  <tbody>\n",
       "    <tr>\n",
       "      <th>0</th>\n",
       "      <td>Bagian dari bidang biologi yang membutuhkan pe...</td>\n",
       "      <td>001v001</td>\n",
       "      <td>Atom dan molekul</td>\n",
       "      <td>Organel, sel dan jaringan</td>\n",
       "      <td>Bioma dan biosfer</td>\n",
       "      <td>Membran sel</td>\n",
       "      <td>Organ dan sistem organ</td>\n",
       "      <td>2</td>\n",
       "      <td>3</td>\n",
       "      <td>3</td>\n",
       "      <td>6</td>\n",
       "      <td>0</td>\n",
       "      <td>9</td>\n",
       "      <td>0.5</td>\n",
       "      <td>0.20</td>\n",
       "      <td>2</td>\n",
       "      <td>3</td>\n",
       "    </tr>\n",
       "    <tr>\n",
       "      <th>1</th>\n",
       "      <td>Dalam studi biologi, penggunaan mikroskop dipe...</td>\n",
       "      <td>001v002</td>\n",
       "      <td>Atom dan molekul</td>\n",
       "      <td>Organel, sel dan jaringan</td>\n",
       "      <td>Bioma dan biosfer</td>\n",
       "      <td>Membran sel</td>\n",
       "      <td>Organ dan sistem organ</td>\n",
       "      <td>2</td>\n",
       "      <td>0</td>\n",
       "      <td>0</td>\n",
       "      <td>0</td>\n",
       "      <td>8</td>\n",
       "      <td>11</td>\n",
       "      <td>0.0</td>\n",
       "      <td>0.73</td>\n",
       "      <td>2</td>\n",
       "      <td>1</td>\n",
       "    </tr>\n",
       "    <tr>\n",
       "      <th>2</th>\n",
       "      <td>Ilmu biologi yang membutuhkan penggunaan mikro...</td>\n",
       "      <td>001v003</td>\n",
       "      <td>Atom dan molekul</td>\n",
       "      <td>Organel, sel dan jaringan</td>\n",
       "      <td>Bioma dan biosfer</td>\n",
       "      <td>Membran sel</td>\n",
       "      <td>Organ dan sistem organ</td>\n",
       "      <td>2</td>\n",
       "      <td>0</td>\n",
       "      <td>0</td>\n",
       "      <td>0</td>\n",
       "      <td>2</td>\n",
       "      <td>15</td>\n",
       "      <td>0.0</td>\n",
       "      <td>0.13</td>\n",
       "      <td>2</td>\n",
       "      <td>3</td>\n",
       "    </tr>\n",
       "    <tr>\n",
       "      <th>3</th>\n",
       "      <td>Cabang biologi yang mendorong peneliti untuk m...</td>\n",
       "      <td>002v001</td>\n",
       "      <td>Sitologi</td>\n",
       "      <td>Histologi</td>\n",
       "      <td>Taksonomi</td>\n",
       "      <td>Genetika</td>\n",
       "      <td>Botani</td>\n",
       "      <td>4</td>\n",
       "      <td>6</td>\n",
       "      <td>6</td>\n",
       "      <td>12</td>\n",
       "      <td>9</td>\n",
       "      <td>11</td>\n",
       "      <td>0.5</td>\n",
       "      <td>0.65</td>\n",
       "      <td>2</td>\n",
       "      <td>2</td>\n",
       "    </tr>\n",
       "    <tr>\n",
       "      <th>4</th>\n",
       "      <td>Cabang ilmu biologi yang menjadi dasar bagi pe...</td>\n",
       "      <td>002v002</td>\n",
       "      <td>Sitologi</td>\n",
       "      <td>Histologi</td>\n",
       "      <td>Taksonomi</td>\n",
       "      <td>Genetika</td>\n",
       "      <td>Botani</td>\n",
       "      <td>4</td>\n",
       "      <td>0</td>\n",
       "      <td>0</td>\n",
       "      <td>0</td>\n",
       "      <td>4</td>\n",
       "      <td>6</td>\n",
       "      <td>0.0</td>\n",
       "      <td>0.67</td>\n",
       "      <td>2</td>\n",
       "      <td>2</td>\n",
       "    </tr>\n",
       "  </tbody>\n",
       "</table>\n",
       "</div>"
      ],
      "text/plain": [
       "                                                soal version-soal  \\\n",
       "0  Bagian dari bidang biologi yang membutuhkan pe...      001v001   \n",
       "1  Dalam studi biologi, penggunaan mikroskop dipe...      001v002   \n",
       "2  Ilmu biologi yang membutuhkan penggunaan mikro...      001v003   \n",
       "3  Cabang biologi yang mendorong peneliti untuk m...      002v001   \n",
       "4  Cabang ilmu biologi yang menjadi dasar bagi pe...      002v002   \n",
       "\n",
       "             opsi-1                     opsi-2             opsi-3  \\\n",
       "0  Atom dan molekul  Organel, sel dan jaringan  Bioma dan biosfer   \n",
       "1  Atom dan molekul  Organel, sel dan jaringan  Bioma dan biosfer   \n",
       "2  Atom dan molekul  Organel, sel dan jaringan  Bioma dan biosfer   \n",
       "3          Sitologi                  Histologi          Taksonomi   \n",
       "4          Sitologi                  Histologi          Taksonomi   \n",
       "\n",
       "        opsi-4                  opsi-5  opsi-benar  total-benar  total-salah  \\\n",
       "0  Membran sel  Organ dan sistem organ           2            3            3   \n",
       "1  Membran sel  Organ dan sistem organ           2            0            0   \n",
       "2  Membran sel  Organ dan sistem organ           2            0            0   \n",
       "3     Genetika                  Botani           4            6            6   \n",
       "4     Genetika                  Botani           4            0            0   \n",
       "\n",
       "   total-muncul  current-total-benar  current-total-muncul  prob-benar  \\\n",
       "0             6                    0                     9         0.5   \n",
       "1             0                    8                    11         0.0   \n",
       "2             0                    2                    15         0.0   \n",
       "3            12                    9                    11         0.5   \n",
       "4             0                    4                     6         0.0   \n",
       "\n",
       "   current-prob  level-soal  current-level  \n",
       "0          0.20           2              3  \n",
       "1          0.73           2              1  \n",
       "2          0.13           2              3  \n",
       "3          0.65           2              2  \n",
       "4          0.67           2              2  "
      ]
     },
     "execution_count": 11,
     "metadata": {},
     "output_type": "execute_result"
    }
   ],
   "source": [
    "# read dataset\n",
    "import pandas as pd\n",
    "df = pd.read_csv(\"./output/main-dataset.csv\")\n",
    "df.head(5)"
   ]
  },
  {
   "cell_type": "code",
   "execution_count": null,
   "metadata": {},
   "outputs": [],
   "source": [
    "def get_pos_tags(text):\n",
    "    doc = nlp(text)   \n",
    "    pos_tags = [f\"{word.text}/{word.xpos}\" for sent in doc.sentences for word in sent.words] \n",
    "    return \" \".join(pos_tags)\n"
   ]
  },
  {
   "cell_type": "code",
   "execution_count": 20,
   "metadata": {},
   "outputs": [],
   "source": [
    "df[\"pos\"] = df[\"soal\"].apply(get_pos_tags)"
   ]
  },
  {
   "cell_type": "code",
   "execution_count": 21,
   "metadata": {},
   "outputs": [],
   "source": [
    "# save to excel\n",
    "df_to_excel = df[[\"soal\", \"pos\", \"version-soal\", \"prob-benar\", \"current-prob\"]]\n",
    "df_to_excel.to_excel(\"hasil-pos-tagging.xlsx\", index=False)"
   ]
  }
 ],
 "metadata": {
  "kernelspec": {
   "display_name": "Python 3",
   "language": "python",
   "name": "python3"
  },
  "language_info": {
   "codemirror_mode": {
    "name": "ipython",
    "version": 3
   },
   "file_extension": ".py",
   "mimetype": "text/x-python",
   "name": "python",
   "nbconvert_exporter": "python",
   "pygments_lexer": "ipython3",
   "version": "3.12.9"
  }
 },
 "nbformat": 4,
 "nbformat_minor": 2
}
